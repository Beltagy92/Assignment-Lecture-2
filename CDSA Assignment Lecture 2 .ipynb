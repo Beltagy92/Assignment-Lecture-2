{
 "cells": [
  {
   "cell_type": "markdown",
   "metadata": {},
   "source": [
    "## Getting Inputs from User\n",
    "### Using <b>input</b> Data Type\n",
    "<ol>\n",
    "    <li>Select Code from Jupyter Notebook instead of Makdown.</li>\n",
    "    <li>Write The Variable Name.</li>\n",
    "    <li>Assign the variable by <b>Equal =</b> Symbol.</li>\n",
    "    <li>Write <b>input</b> Data Type and open <b>Bracets ()</b>.</li>\n",
    "    <li>Write your string inside <b>Qoutation Mark \" \"</b>.</li>\n",
    "</ol>\n",
    "<b>The Code has to be in the following style:</b>"
   ]
  },
  {
   "cell_type": "code",
   "execution_count": null,
   "metadata": {},
   "outputs": [],
   "source": [
    "FirstName = input(\"First Name: \")\n",
    "LastName = input(\"Last Name: \")\n",
    "Age = input(\"Age: \")\n",
    "PhoneNumber = input(\"Phone Number: \")"
   ]
  },
  {
   "cell_type": "markdown",
   "metadata": {},
   "source": [
    "## Concatenate inputs\n",
    "### Using **print** Data Type\n",
    "1. After taking the inputs from user, use **print** Data Type.\n",
    "2. Open **Bracets ()**.\n",
    "3. There are many options to concatenate All inputs in one sentense, but we will use the better solution for which is **String Format**.\n",
    "4. Write inside **Barcets ()** Letter **f** and you have to be care of letter case, because **Python** is case sensetive.\n",
    "5. Then open **Quotation Mark \" \"** and write what you want to show to the user, and insert your inputs Names inside **Curly Bracets {}**.\n",
    "\n",
    "**The Code has to be in the following style:**"
   ]
  },
  {
   "cell_type": "code",
   "execution_count": null,
   "metadata": {},
   "outputs": [],
   "source": [
    "FirstName = input(\"First Name: \")\n",
    "LastName = input(\"Last Name: \")\n",
    "Age = input(\"Age: \")\n",
    "PhoneNumber = input(\"Phone Number: \")\n",
    "print (f\"Your Name is {FirstName} {LastName}, you are {Age} years old and your Phone Number is {PhoneNumber}.\")"
   ]
  },
  {
   "cell_type": "markdown",
   "metadata": {},
   "source": [
    "# Congratulations !!\n",
    "## Now you know how to use input, print, function and conactenate all inputs."
   ]
  }
 ],
 "metadata": {
  "kernelspec": {
   "display_name": "Python 3",
   "language": "python",
   "name": "python3"
  },
  "language_info": {
   "codemirror_mode": {
    "name": "ipython",
    "version": 3
   },
   "file_extension": ".py",
   "mimetype": "text/x-python",
   "name": "python",
   "nbconvert_exporter": "python",
   "pygments_lexer": "ipython3",
   "version": "3.7.6"
  }
 },
 "nbformat": 4,
 "nbformat_minor": 4
}
