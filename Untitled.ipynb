{
 "cells": [
  {
   "cell_type": "markdown",
   "metadata": {},
   "source": [
    "## Adding Name\n",
    "### Using <b>input</b> Data Type\n",
    "<ol>\n",
    "    <li>Select Code from Jupyter Notebook instead of Makdown.</li>\n",
    "    <li>Write The Variable Name.</li>\n",
    "    <li>Assign the variable by <b>Equal =</b> Symbol.</li>\n",
    "    <li>Write <b>input</b> Data Type and open <b>Bracets ()</b>.</li>\n",
    "    <li>Write your string inside <b>Qoutation Mark \" \"</b>.</li>\n",
    "</ol>\n",
    "<b>The Code has to be in the following style:</b>"
   ]
  },
  {
   "cell_type": "code",
   "execution_count": null,
   "metadata": {},
   "outputs": [],
   "source": [
    "FirstName = input(\"First Name: \")\n",
    "LastName = input(\"Last Name: \")\n",
    "Age = input(\"Age: \")"
   ]
  },
  {
   "cell_type": "markdown",
   "metadata": {},
   "source": []
  },
  {
   "cell_type": "code",
   "execution_count": null,
   "metadata": {},
   "outputs": [],
   "source": []
  },
  {
   "cell_type": "code",
   "execution_count": null,
   "metadata": {},
   "outputs": [],
   "source": []
  }
 ],
 "metadata": {
  "kernelspec": {
   "display_name": "Python 3",
   "language": "python",
   "name": "python3"
  },
  "language_info": {
   "codemirror_mode": {
    "name": "ipython",
    "version": 3
   },
   "file_extension": ".py",
   "mimetype": "text/x-python",
   "name": "python",
   "nbconvert_exporter": "python",
   "pygments_lexer": "ipython3",
   "version": "3.7.6"
  }
 },
 "nbformat": 4,
 "nbformat_minor": 4
}
